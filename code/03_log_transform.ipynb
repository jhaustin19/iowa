{
 "cells": [
  {
   "cell_type": "markdown",
   "metadata": {},
   "source": [
    "# Imports"
   ]
  },
  {
   "cell_type": "code",
   "execution_count": 1,
   "metadata": {},
   "outputs": [],
   "source": [
    "import numpy as np\n",
    "import os\n",
    "import pandas as pd\n",
    "\n",
    "from sklearn.linear_model import LinearRegression\n",
    "from sklearn.model_selection import train_test_split, cross_val_score"
   ]
  },
  {
   "cell_type": "markdown",
   "metadata": {},
   "source": [
    "# MLR with a log transformation of our target"
   ]
  },
  {
   "cell_type": "markdown",
   "metadata": {},
   "source": [
    "Since our MLR with the variables `Overall Qual`, `Gr Liv Area`, and `Garage Area` was pretty good, let's try using it in conjunction with a log transformation of `SalePrice`."
   ]
  },
  {
   "cell_type": "code",
   "execution_count": 2,
   "metadata": {},
   "outputs": [],
   "source": [
    "# Bring in clean dataframe\n",
    "filepath = 'datasets/train_clean.csv'\n",
    "df = pd.read_csv(filepath)"
   ]
  },
  {
   "cell_type": "code",
   "execution_count": 3,
   "metadata": {},
   "outputs": [],
   "source": [
    "features = ['Overall Qual', 'Gr Liv Area', 'Garage Area']\n",
    "\n",
    "X = df[features]\n",
    "y = df['SalePrice']\n",
    "y_log = np.log(y)\n",
    "\n",
    "X_train, X_test, y_train, y_test = train_test_split(X, y_log, random_state=42)"
   ]
  },
  {
   "cell_type": "code",
   "execution_count": 4,
   "metadata": {},
   "outputs": [
    {
     "name": "stdout",
     "output_type": "stream",
     "text": [
      "train: 0.7989218714383082\n",
      "test: 0.7858410438659181\n",
      "cross val score: 0.7965281691082039\n"
     ]
    }
   ],
   "source": [
    "# Instantiate and fit model\n",
    "log_lr = LinearRegression()\n",
    "log_lr.fit(X_train, y_train);\n",
    "\n",
    "# Train score\n",
    "print('train:', log_lr.score(X_train, y_train))\n",
    "\n",
    "# Test score\n",
    "print('test:', log_lr.score(X_test, y_test))\n",
    "\n",
    "# Cross val score\n",
    "print('cross val score:', cross_val_score(log_lr, X_train, y_train, cv=5).mean())"
   ]
  },
  {
   "cell_type": "markdown",
   "metadata": {},
   "source": [
    "Let's compare these scores to our MLR scores without the log transformation..."
   ]
  },
  {
   "cell_type": "code",
   "execution_count": 5,
   "metadata": {},
   "outputs": [
    {
     "name": "stdout",
     "output_type": "stream",
     "text": [
      "train difference: -0.027107056136266405\n",
      "test difference: 0.05034448447983719\n",
      "cross val score difference: -0.029562430120195105\n"
     ]
    }
   ],
   "source": [
    "no_transform = {\n",
    "    'train': 0.7819565824464964,\n",
    "    'test': 0.7766558862439193,\n",
    "    'cross val score': 0.7787122981872973,\n",
    "}\n",
    "\n",
    "transform = {\n",
    "    'train': 0.75484952631023,\n",
    "    'test': 0.8270003707237565,\n",
    "    'cross val score': 0.7491498680671022,\n",
    "}\n",
    "\n",
    "for each in transform.keys():\n",
    "    print(f'{each} difference: {transform[each] - no_transform[each]}')"
   ]
  },
  {
   "cell_type": "markdown",
   "metadata": {},
   "source": [
    "So we can see we've made improvements in the test score, but not in the training or cross-validation scores."
   ]
  },
  {
   "cell_type": "markdown",
   "metadata": {},
   "source": [
    "# Bring in `test_clean.csv`"
   ]
  },
  {
   "cell_type": "code",
   "execution_count": 6,
   "metadata": {},
   "outputs": [],
   "source": [
    "test = pd.read_csv('datasets/test_clean.csv')"
   ]
  },
  {
   "cell_type": "markdown",
   "metadata": {},
   "source": [
    "# Making predictions"
   ]
  },
  {
   "cell_type": "code",
   "execution_count": 7,
   "metadata": {},
   "outputs": [],
   "source": [
    "# Make submissions directory if it doesn't already exist\n",
    "try:\n",
    "    os.mkdir('submissions')\n",
    "except:\n",
    "    pass"
   ]
  },
  {
   "cell_type": "code",
   "execution_count": 8,
   "metadata": {},
   "outputs": [],
   "source": [
    "test_preds = np.exp(log_lr.predict(test[features]))\n",
    "\n",
    "test_preds_df = pd.DataFrame({\n",
    "    'Id': test['Id'],\n",
    "    'SalePrice': test_preds\n",
    "})\n",
    "\n",
    "test_preds_df.to_csv('submissions/log_transform.csv', index=False)"
   ]
  }
 ],
 "metadata": {
  "kernelspec": {
   "display_name": "Python 3",
   "language": "python",
   "name": "python3"
  },
  "language_info": {
   "codemirror_mode": {
    "name": "ipython",
    "version": 3
   },
   "file_extension": ".py",
   "mimetype": "text/x-python",
   "name": "python",
   "nbconvert_exporter": "python",
   "pygments_lexer": "ipython3",
   "version": "3.7.6"
  }
 },
 "nbformat": 4,
 "nbformat_minor": 4
}

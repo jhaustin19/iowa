{
 "cells": [
  {
   "cell_type": "markdown",
   "metadata": {},
   "source": [
    "# Feature Engineering"
   ]
  },
  {
   "cell_type": "markdown",
   "metadata": {},
   "source": [
    "Let's try to manufacture some new features and see how they perform."
   ]
  },
  {
   "cell_type": "markdown",
   "metadata": {},
   "source": [
    "# Imports"
   ]
  },
  {
   "cell_type": "code",
   "execution_count": 1,
   "metadata": {},
   "outputs": [],
   "source": [
    "import numpy as np\n",
    "import os\n",
    "import pandas as pd\n",
    "\n",
    "from sklearn.linear_model import LinearRegression\n",
    "from sklearn.model_selection import train_test_split, cross_val_score\n",
    "from sklearn.preprocessing import StandardScaler, PolynomialFeatures"
   ]
  },
  {
   "cell_type": "code",
   "execution_count": 2,
   "metadata": {},
   "outputs": [],
   "source": [
    "# Import data\n",
    "filepath = 'datasets/train_clean.csv'\n",
    "df = pd.read_csv(filepath)"
   ]
  },
  {
   "cell_type": "code",
   "execution_count": 3,
   "metadata": {},
   "outputs": [],
   "source": [
    "pd.options.display.max_rows = 999"
   ]
  },
  {
   "cell_type": "markdown",
   "metadata": {},
   "source": [
    "# Polynomial features"
   ]
  },
  {
   "cell_type": "code",
   "execution_count": 4,
   "metadata": {},
   "outputs": [],
   "source": [
    "# Grab and sort the ten variables most highly correlated with SalePrice\n",
    "corrs = df.corr()[['SalePrice']].drop('SalePrice')\n",
    "corrs = corrs.sort_values(by='SalePrice', ascending=False)[:10]"
   ]
  },
  {
   "cell_type": "code",
   "execution_count": 5,
   "metadata": {},
   "outputs": [],
   "source": [
    "# Turn those ten into a list of features\n",
    "features = [ix for ix in corrs.index]\n",
    "X = df[features]"
   ]
  },
  {
   "cell_type": "code",
   "execution_count": 6,
   "metadata": {},
   "outputs": [],
   "source": [
    "# Create poly instance\n",
    "poly = PolynomialFeatures(include_bias=False)\n",
    "\n",
    "# Create polynomial features\n",
    "X_poly = poly.fit_transform(X)\n",
    "\n",
    "# Create new dataframe with SalePrice and our polynomial features\n",
    "corrs_df = pd.DataFrame(X_poly, columns=poly.get_feature_names(features))\n",
    "corrs_df['SalePrice'] = df['SalePrice']"
   ]
  },
  {
   "cell_type": "code",
   "execution_count": 7,
   "metadata": {},
   "outputs": [
    {
     "data": {
      "text/html": [
       "<div>\n",
       "<style scoped>\n",
       "    .dataframe tbody tr th:only-of-type {\n",
       "        vertical-align: middle;\n",
       "    }\n",
       "\n",
       "    .dataframe tbody tr th {\n",
       "        vertical-align: top;\n",
       "    }\n",
       "\n",
       "    .dataframe thead th {\n",
       "        text-align: right;\n",
       "    }\n",
       "</style>\n",
       "<table border=\"1\" class=\"dataframe\">\n",
       "  <thead>\n",
       "    <tr style=\"text-align: right;\">\n",
       "      <th></th>\n",
       "      <th>SalePrice</th>\n",
       "    </tr>\n",
       "  </thead>\n",
       "  <tbody>\n",
       "    <tr>\n",
       "      <th>Overall Qual Gr Liv Area</th>\n",
       "      <td>0.873705</td>\n",
       "    </tr>\n",
       "    <tr>\n",
       "      <th>Overall Qual 1st Flr SF</th>\n",
       "      <td>0.842434</td>\n",
       "    </tr>\n",
       "    <tr>\n",
       "      <th>Overall Qual Total Bsmt SF</th>\n",
       "      <td>0.832307</td>\n",
       "    </tr>\n",
       "    <tr>\n",
       "      <th>Overall Qual^2</th>\n",
       "      <td>0.829961</td>\n",
       "    </tr>\n",
       "    <tr>\n",
       "      <th>Overall Qual Garage Area</th>\n",
       "      <td>0.826098</td>\n",
       "    </tr>\n",
       "    <tr>\n",
       "      <th>Gr Liv Area Total Bsmt SF</th>\n",
       "      <td>0.823888</td>\n",
       "    </tr>\n",
       "    <tr>\n",
       "      <th>Overall Qual Garage Cars</th>\n",
       "      <td>0.823318</td>\n",
       "    </tr>\n",
       "    <tr>\n",
       "      <th>Gr Liv Area Garage Area</th>\n",
       "      <td>0.809826</td>\n",
       "    </tr>\n",
       "    <tr>\n",
       "      <th>Overall Qual Year Built</th>\n",
       "      <td>0.809632</td>\n",
       "    </tr>\n",
       "    <tr>\n",
       "      <th>Gr Liv Area Garage Cars</th>\n",
       "      <td>0.808582</td>\n",
       "    </tr>\n",
       "    <tr>\n",
       "      <th>Overall Qual Garage Yr Blt</th>\n",
       "      <td>0.808233</td>\n",
       "    </tr>\n",
       "    <tr>\n",
       "      <th>Overall Qual Year Remod/Add</th>\n",
       "      <td>0.807397</td>\n",
       "    </tr>\n",
       "    <tr>\n",
       "      <th>Overall Qual</th>\n",
       "      <td>0.802750</td>\n",
       "    </tr>\n",
       "    <tr>\n",
       "      <th>Total Bsmt SF Garage Cars</th>\n",
       "      <td>0.797443</td>\n",
       "    </tr>\n",
       "    <tr>\n",
       "      <th>Total Bsmt SF Garage Area</th>\n",
       "      <td>0.787698</td>\n",
       "    </tr>\n",
       "    <tr>\n",
       "      <th>1st Flr SF Garage Cars</th>\n",
       "      <td>0.783164</td>\n",
       "    </tr>\n",
       "    <tr>\n",
       "      <th>Garage Area 1st Flr SF</th>\n",
       "      <td>0.773405</td>\n",
       "    </tr>\n",
       "    <tr>\n",
       "      <th>Gr Liv Area 1st Flr SF</th>\n",
       "      <td>0.767440</td>\n",
       "    </tr>\n",
       "    <tr>\n",
       "      <th>Overall Qual Full Bath</th>\n",
       "      <td>0.760034</td>\n",
       "    </tr>\n",
       "    <tr>\n",
       "      <th>Garage Area Full Bath</th>\n",
       "      <td>0.744922</td>\n",
       "    </tr>\n",
       "    <tr>\n",
       "      <th>Total Bsmt SF Full Bath</th>\n",
       "      <td>0.744767</td>\n",
       "    </tr>\n",
       "    <tr>\n",
       "      <th>Gr Liv Area Year Built</th>\n",
       "      <td>0.742018</td>\n",
       "    </tr>\n",
       "    <tr>\n",
       "      <th>Gr Liv Area Garage Yr Blt</th>\n",
       "      <td>0.736310</td>\n",
       "    </tr>\n",
       "    <tr>\n",
       "      <th>Gr Liv Area Year Remod/Add</th>\n",
       "      <td>0.732913</td>\n",
       "    </tr>\n",
       "    <tr>\n",
       "      <th>Gr Liv Area</th>\n",
       "      <td>0.721607</td>\n",
       "    </tr>\n",
       "    <tr>\n",
       "      <th>Garage Cars Full Bath</th>\n",
       "      <td>0.717592</td>\n",
       "    </tr>\n",
       "    <tr>\n",
       "      <th>1st Flr SF Full Bath</th>\n",
       "      <td>0.709519</td>\n",
       "    </tr>\n",
       "    <tr>\n",
       "      <th>Gr Liv Area^2</th>\n",
       "      <td>0.705070</td>\n",
       "    </tr>\n",
       "    <tr>\n",
       "      <th>Total Bsmt SF 1st Flr SF</th>\n",
       "      <td>0.703085</td>\n",
       "    </tr>\n",
       "    <tr>\n",
       "      <th>Gr Liv Area Full Bath</th>\n",
       "      <td>0.696657</td>\n",
       "    </tr>\n",
       "  </tbody>\n",
       "</table>\n",
       "</div>"
      ],
      "text/plain": [
       "                             SalePrice\n",
       "Overall Qual Gr Liv Area      0.873705\n",
       "Overall Qual 1st Flr SF       0.842434\n",
       "Overall Qual Total Bsmt SF    0.832307\n",
       "Overall Qual^2                0.829961\n",
       "Overall Qual Garage Area      0.826098\n",
       "Gr Liv Area Total Bsmt SF     0.823888\n",
       "Overall Qual Garage Cars      0.823318\n",
       "Gr Liv Area Garage Area       0.809826\n",
       "Overall Qual Year Built       0.809632\n",
       "Gr Liv Area Garage Cars       0.808582\n",
       "Overall Qual Garage Yr Blt    0.808233\n",
       "Overall Qual Year Remod/Add   0.807397\n",
       "Overall Qual                  0.802750\n",
       "Total Bsmt SF Garage Cars     0.797443\n",
       "Total Bsmt SF Garage Area     0.787698\n",
       "1st Flr SF Garage Cars        0.783164\n",
       "Garage Area 1st Flr SF        0.773405\n",
       "Gr Liv Area 1st Flr SF        0.767440\n",
       "Overall Qual Full Bath        0.760034\n",
       "Garage Area Full Bath         0.744922\n",
       "Total Bsmt SF Full Bath       0.744767\n",
       "Gr Liv Area Year Built        0.742018\n",
       "Gr Liv Area Garage Yr Blt     0.736310\n",
       "Gr Liv Area Year Remod/Add    0.732913\n",
       "Gr Liv Area                   0.721607\n",
       "Garage Cars Full Bath         0.717592\n",
       "1st Flr SF Full Bath          0.709519\n",
       "Gr Liv Area^2                 0.705070\n",
       "Total Bsmt SF 1st Flr SF      0.703085\n",
       "Gr Liv Area Full Bath         0.696657"
      ]
     },
     "execution_count": 7,
     "metadata": {},
     "output_type": "execute_result"
    }
   ],
   "source": [
    "# Now see which of our polynomial features correlate highly with SalePrice\n",
    "corrs_df.corr()[['SalePrice']].drop('SalePrice').sort_values(by='SalePrice', ascending=False)[:30]"
   ]
  },
  {
   "cell_type": "markdown",
   "metadata": {},
   "source": [
    "# Building a model"
   ]
  },
  {
   "cell_type": "markdown",
   "metadata": {},
   "source": [
    "We can see that the feature most highly correlated with our target is the interaction term `Overall Qual Gr Liv Area` (followed by `Overall Qual^2`). So let's build a model using these interaction terms!"
   ]
  },
  {
   "cell_type": "code",
   "execution_count": 8,
   "metadata": {},
   "outputs": [],
   "source": [
    "features = [#'Garage Cars Total Bsmt SF',\n",
    "            'Garage Cars',\n",
    "            'Total Bsmt SF',\n",
    "            'Overall Qual Gr Liv Area',\n",
    "            'Overall Qual',\n",
    "            'Gr Liv Area',\n",
    "            'Overall Qual^2']\n",
    "\n",
    "X = corrs_df[features]\n",
    "y = corrs_df['SalePrice']\n",
    "\n",
    "X_train, X_test, y_train, y_test = train_test_split(X, y, random_state=42)"
   ]
  },
  {
   "cell_type": "code",
   "execution_count": 9,
   "metadata": {},
   "outputs": [
    {
     "name": "stdout",
     "output_type": "stream",
     "text": [
      "train: 0.8583114269993146\n",
      "test: 0.8589191189525888\n",
      "cross val score: 0.8549616952711011\n"
     ]
    }
   ],
   "source": [
    "# Instantiate and fit model.\n",
    "lr = LinearRegression()\n",
    "lr.fit(X_train, y_train);\n",
    "\n",
    "# Train score\n",
    "print('train:', lr.score(X_train, y_train))\n",
    "\n",
    "# Test score\n",
    "print('test:', lr.score(X_test, y_test))\n",
    "\n",
    "# Cross val score\n",
    "print('cross val score:', cross_val_score(lr, X_train, y_train, cv=5).mean())"
   ]
  },
  {
   "cell_type": "markdown",
   "metadata": {},
   "source": [
    "This is easily the best model we've tried so far!"
   ]
  },
  {
   "cell_type": "markdown",
   "metadata": {},
   "source": [
    "# Log transforming our target"
   ]
  },
  {
   "cell_type": "markdown",
   "metadata": {},
   "source": [
    "This MLR with interaction terms looks to be pretty solid, but can we make it even better by combining it with a log transformation of `SalePrice`?"
   ]
  },
  {
   "cell_type": "code",
   "execution_count": 10,
   "metadata": {},
   "outputs": [],
   "source": [
    "y_log = np.log(y)\n",
    "\n",
    "X_train, X_test, y_train, y_test = train_test_split(X, y_log, random_state=42)"
   ]
  },
  {
   "cell_type": "code",
   "execution_count": 11,
   "metadata": {},
   "outputs": [
    {
     "name": "stdout",
     "output_type": "stream",
     "text": [
      "train: 0.8319281453489725\n",
      "test: 0.8145141504093693\n",
      "cross val score: 0.8285093648283937\n"
     ]
    }
   ],
   "source": [
    "# Instantiate and fit model\n",
    "log_lr = LinearRegression()\n",
    "log_lr.fit(X_train, y_train);\n",
    "\n",
    "# Train score\n",
    "print('train:', log_lr.score(X_train, y_train))\n",
    "\n",
    "# Test score\n",
    "print('test:', log_lr.score(X_test, y_test))\n",
    "\n",
    "# Cross val score\n",
    "print('cross val score:', cross_val_score(log_lr, X_train, y_train, cv=5).mean())"
   ]
  },
  {
   "cell_type": "markdown",
   "metadata": {},
   "source": [
    "So the model is not quite as good with a log transformation of the target."
   ]
  },
  {
   "cell_type": "markdown",
   "metadata": {},
   "source": [
    "# Bring in `test_clean.csv`"
   ]
  },
  {
   "cell_type": "code",
   "execution_count": 12,
   "metadata": {},
   "outputs": [],
   "source": [
    "test = pd.read_csv('datasets/test_clean.csv')"
   ]
  },
  {
   "cell_type": "markdown",
   "metadata": {},
   "source": [
    "We need to create our interactions terms in the test dataset."
   ]
  },
  {
   "cell_type": "code",
   "execution_count": 13,
   "metadata": {},
   "outputs": [],
   "source": [
    "features = [ix for ix in corrs.index]\n",
    "\n",
    "X = test[features]\n",
    "X_poly = poly.fit_transform(X)\n",
    "\n",
    "test = pd.DataFrame(X_poly, columns=poly.get_feature_names(features))\n",
    "\n",
    "# Need to add back in Id column from original test data\n",
    "test2 = pd.read_csv('datasets/test_clean.csv')\n",
    "test['Id'] = test2['Id']"
   ]
  },
  {
   "cell_type": "markdown",
   "metadata": {},
   "source": [
    "# Making predictions"
   ]
  },
  {
   "cell_type": "code",
   "execution_count": 14,
   "metadata": {},
   "outputs": [],
   "source": [
    "# Make submissions directory if it doesn't already exist\n",
    "try:\n",
    "    os.mkdir('submissions')\n",
    "except FileExistsError:\n",
    "    pass"
   ]
  },
  {
   "cell_type": "code",
   "execution_count": 15,
   "metadata": {},
   "outputs": [],
   "source": [
    "features = [#'Garage Cars Total Bsmt SF',\n",
    "            'Garage Cars',\n",
    "            'Total Bsmt SF',\n",
    "            'Overall Qual Gr Liv Area',\n",
    "            'Overall Qual',\n",
    "            'Gr Liv Area',\n",
    "            'Overall Qual^2']"
   ]
  },
  {
   "cell_type": "code",
   "execution_count": 16,
   "metadata": {},
   "outputs": [],
   "source": [
    "test_preds = np.exp(log_lr.predict(test[features]))\n",
    "\n",
    "test_preds_df = pd.DataFrame({\n",
    "    'Id': test['Id'],\n",
    "    'SalePrice': test_preds\n",
    "})\n",
    "\n",
    "test_preds_df.to_csv('submissions/interaction_and_log_transform.csv', index=False)"
   ]
  },
  {
   "cell_type": "markdown",
   "metadata": {},
   "source": [
    "# Exporting datasets with polynomial features"
   ]
  },
  {
   "cell_type": "code",
   "execution_count": 17,
   "metadata": {},
   "outputs": [],
   "source": [
    "corrs_df.to_csv('datasets/train_with_polynomials.csv', index=False)"
   ]
  },
  {
   "cell_type": "code",
   "execution_count": 18,
   "metadata": {},
   "outputs": [],
   "source": [
    "test.to_csv('datasets/test_with_polynomials.csv', index=False)"
   ]
  }
 ],
 "metadata": {
  "kernelspec": {
   "display_name": "Python 3",
   "language": "python",
   "name": "python3"
  },
  "language_info": {
   "codemirror_mode": {
    "name": "ipython",
    "version": 3
   },
   "file_extension": ".py",
   "mimetype": "text/x-python",
   "name": "python",
   "nbconvert_exporter": "python",
   "pygments_lexer": "ipython3",
   "version": "3.7.6"
  }
 },
 "nbformat": 4,
 "nbformat_minor": 4
}

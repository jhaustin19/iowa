{
 "cells": [
  {
   "cell_type": "markdown",
   "metadata": {},
   "source": [
    "# Imports"
   ]
  },
  {
   "cell_type": "code",
   "execution_count": 1,
   "metadata": {},
   "outputs": [],
   "source": [
    "import numpy as np\n",
    "import os\n",
    "import pandas as pd\n",
    "\n",
    "from sklearn.linear_model import LinearRegression\n",
    "from sklearn.model_selection import train_test_split, cross_val_score"
   ]
  },
  {
   "cell_type": "markdown",
   "metadata": {},
   "source": [
    "# Making a first model"
   ]
  },
  {
   "cell_type": "markdown",
   "metadata": {},
   "source": [
    "We saw from basic EDA that the three variables most strongly correlated with `SalePrice` are `Overall Qual`, `Gr Liv Area`, and `Garage Area`. As explanatory variables, they also have a roughly linear relationship with the target. Let's use these to make a simple first model."
   ]
  },
  {
   "cell_type": "code",
   "execution_count": 2,
   "metadata": {},
   "outputs": [],
   "source": [
    "# Bring in clean dataframe\n",
    "filepath = 'datasets/train_clean.csv'\n",
    "df = pd.read_csv(filepath)"
   ]
  },
  {
   "cell_type": "code",
   "execution_count": 3,
   "metadata": {},
   "outputs": [],
   "source": [
    "features = ['Overall Qual', 'Gr Liv Area', 'Garage Area']\n",
    "\n",
    "X = df[features]\n",
    "y = df['SalePrice']\n",
    "\n",
    "X_train, X_test, y_train, y_test = train_test_split(X, y, random_state=42)"
   ]
  },
  {
   "cell_type": "code",
   "execution_count": 4,
   "metadata": {},
   "outputs": [
    {
     "name": "stdout",
     "output_type": "stream",
     "text": [
      "train: 0.7819565824464964\n",
      "test: 0.7766558862439193\n",
      "cross val score: 0.7787122981872973\n"
     ]
    }
   ],
   "source": [
    "# Instantiate and fit model.\n",
    "lr = LinearRegression()\n",
    "lr.fit(X_train, y_train);\n",
    "\n",
    "# Train score\n",
    "print('train:', lr.score(X_train, y_train))\n",
    "\n",
    "# Test score\n",
    "print('test:', lr.score(X_test, y_test))\n",
    "\n",
    "# Cross val score\n",
    "print('cross val score:', cross_val_score(lr, X_train, y_train, cv=5).mean())"
   ]
  },
  {
   "cell_type": "markdown",
   "metadata": {},
   "source": [
    "So this appears to be a pretty decent model. Our training R-squared value of `0.7819` means around 78% of the variance in the sale price can be explained by our model (as compared to predicting the mean). Similar test and cross-val scores indicate our model generalizes well to new data."
   ]
  },
  {
   "cell_type": "markdown",
   "metadata": {},
   "source": [
    "# Bring in `test_clean.csv`"
   ]
  },
  {
   "cell_type": "code",
   "execution_count": 5,
   "metadata": {},
   "outputs": [],
   "source": [
    "test = pd.read_csv('datasets/test_clean.csv')"
   ]
  },
  {
   "cell_type": "markdown",
   "metadata": {},
   "source": [
    "# Making predictions"
   ]
  },
  {
   "cell_type": "code",
   "execution_count": 6,
   "metadata": {},
   "outputs": [],
   "source": [
    "# Make submissions directory if it doesn't already exist\n",
    "try:\n",
    "    os.mkdir('submissions')\n",
    "except:\n",
    "    pass"
   ]
  },
  {
   "cell_type": "code",
   "execution_count": 7,
   "metadata": {},
   "outputs": [],
   "source": [
    "test_preds = lr.predict(test[features])\n",
    "\n",
    "test_preds_df = pd.DataFrame({\n",
    "    'Id': test['Id'],\n",
    "    'SalePrice': test_preds\n",
    "})\n",
    "\n",
    "test_preds_df.to_csv('submissions/three_var_linmod.csv', index=False)"
   ]
  }
 ],
 "metadata": {
  "kernelspec": {
   "display_name": "Python 3",
   "language": "python",
   "name": "python3"
  },
  "language_info": {
   "codemirror_mode": {
    "name": "ipython",
    "version": 3
   },
   "file_extension": ".py",
   "mimetype": "text/x-python",
   "name": "python",
   "nbconvert_exporter": "python",
   "pygments_lexer": "ipython3",
   "version": "3.7.6"
  }
 },
 "nbformat": 4,
 "nbformat_minor": 4
}
